{
  "nbformat": 4,
  "nbformat_minor": 0,
  "metadata": {
    "colab": {
      "provenance": [],
      "toc_visible": true,
      "authorship_tag": "ABX9TyOiMeww+2zD7vmnAeK70Ttd",
      "include_colab_link": true
    },
    "kernelspec": {
      "name": "python3",
      "display_name": "Python 3"
    },
    "language_info": {
      "name": "python"
    }
  },
  "cells": [
    {
      "cell_type": "markdown",
      "metadata": {
        "id": "view-in-github",
        "colab_type": "text"
      },
      "source": [
        "<a href=\"https://colab.research.google.com/github/hjacauna/dio-tradutor/blob/main/Untitled0.ipynb\" target=\"_parent\"><img src=\"https://colab.research.google.com/assets/colab-badge.svg\" alt=\"Open In Colab\"/></a>"
      ]
    },
    {
      "cell_type": "code",
      "execution_count": null,
      "metadata": {
        "colab": {
          "base_uri": "https://localhost:8080/"
        },
        "id": "5NMAKPr96Fje",
        "outputId": "88dd8742-958c-4047-9cf5-4c88b7f6cbf1"
      },
      "outputs": [
        {
          "output_type": "stream",
          "name": "stdout",
          "text": [
            "Requirement already satisfied: requests in /usr/local/lib/python3.10/dist-packages (2.32.3)\n",
            "Collecting python-docx\n",
            "  Downloading python_docx-1.1.2-py3-none-any.whl.metadata (2.0 kB)\n",
            "Requirement already satisfied: charset-normalizer<4,>=2 in /usr/local/lib/python3.10/dist-packages (from requests) (3.4.0)\n",
            "Requirement already satisfied: idna<4,>=2.5 in /usr/local/lib/python3.10/dist-packages (from requests) (3.10)\n",
            "Requirement already satisfied: urllib3<3,>=1.21.1 in /usr/local/lib/python3.10/dist-packages (from requests) (2.2.3)\n",
            "Requirement already satisfied: certifi>=2017.4.17 in /usr/local/lib/python3.10/dist-packages (from requests) (2024.8.30)\n",
            "Requirement already satisfied: lxml>=3.1.0 in /usr/local/lib/python3.10/dist-packages (from python-docx) (5.3.0)\n",
            "Requirement already satisfied: typing-extensions>=4.9.0 in /usr/local/lib/python3.10/dist-packages (from python-docx) (4.12.2)\n",
            "Downloading python_docx-1.1.2-py3-none-any.whl (244 kB)\n",
            "\u001b[2K   \u001b[90m━━━━━━━━━━━━━━━━━━━━━━━━━━━━━━━━━━━━━━━━\u001b[0m \u001b[32m244.3/244.3 kB\u001b[0m \u001b[31m15.3 MB/s\u001b[0m eta \u001b[36m0:00:00\u001b[0m\n",
            "\u001b[?25hInstalling collected packages: python-docx\n",
            "Successfully installed python-docx-1.1.2\n"
          ]
        }
      ],
      "source": [
        "pip install requests python-docx"
      ]
    },
    {
      "source": [
        "import requests\n",
        "from docx import Document\n",
        "import os\n",
        "\n",
        "subscription_key = \"YOUR_SUBSCRIPTION_KEY\"\n",
        "endpoint = \"YOUR_ENDPOINT\"\n",
        "location = \"YOUR_LOCATION\"\n",
        "target_language = 'pt-br'\n",
        "\n",
        "def translate_document(document_text, target_language): # Changed function parameter to document_text\n",
        "    path = '/translate'\n",
        "    constructed_url = endpoint + path\n",
        "\n",
        "    headers = {\n",
        "        'Ocp-Apim-Subscription-Key': subscription_key,\n",
        "        'Ocp-Apim-Subscription-Region': location,\n",
        "        'Content-type': 'application/json',\n",
        "        'X-ClientTraceId': str(os.urandom(16))\n",
        "    }\n",
        "\n",
        "    body = [{\n",
        "        'text': document_text # Using document_text parameter instead of undefined text\n",
        "    }]\n",
        "    params = {\n",
        "        'api-version': '3.0',\n",
        "        'from': 'en',\n",
        "        'to': target_language\n",
        "    }\n",
        "\n",
        "    request_result = requests.post(constructed_url, params=params, headers=headers, json=body) # Changed variable name to request_result\n",
        "    response = request_result.json() # Getting json from request_result\n",
        "    return response[0]['translations'][0]['text']"
      ],
      "cell_type": "code",
      "metadata": {
        "id": "V_5D-R_KD6HA"
      },
      "execution_count": 8,
      "outputs": []
    },
    {
      "cell_type": "code",
      "source": [
        "def translate_document(path):\n",
        "  document = Document(path)\n",
        "  full_text = []\n",
        "  for paragraph in document.paragraphs:\n",
        "    translate_text = translate_document(paragraph.text, target_language)\n",
        "    full_text.append(translate_text)\n",
        "\n",
        "  transleted_doc = Document()\n",
        "  for line in full_text:\n",
        "    transleted_doc.add_paragraph(line)\n",
        "  transleted_doc.save('translated_doc.docx')\n",
        "\n",
        "  path_translated = path.replace('.docx', '_translated.docx')\n",
        "  transleted_doc.save(path_translated)\n",
        "  return path_translated\n",
        "\n",
        "  input_file = \"/content/Azure Translation Services.docx\"\n",
        "  translate_document(input_file)\n"
      ],
      "metadata": {
        "id": "EuojCGtL9xEp"
      },
      "execution_count": 14,
      "outputs": []
    },
    {
      "source": [],
      "cell_type": "code",
      "metadata": {
        "id": "921Hy0KKEBbg"
      },
      "execution_count": null,
      "outputs": []
    }
  ]
}